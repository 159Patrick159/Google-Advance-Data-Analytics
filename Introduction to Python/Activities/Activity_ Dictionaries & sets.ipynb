{
 "cells": [
  {
   "cell_type": "markdown",
   "metadata": {
    "id": "-Lwnt5KN31Fq"
   },
   "source": [
    "<h1>Activity: Dictionaries and sets</h1>"
   ]
  },
  {
   "cell_type": "markdown",
   "metadata": {
    "id": "g3HOxOPG39KQ"
   },
   "source": [
    "## Introduction\n",
    "\n",
    "In this lab, you will practice creating, modifying, and working with data structures in Python. This will develop your knowledge of different kinds of data structures and the different operations that you can perform with them to answer questions about the data. This will help you prepare for projects you may encounter where you will need to use data structures to store and keep track of data.\n",
    "\n",
    "In your work as an analyst, you are continuing your research into air quality data collected by the U.S. Environmental Protection Agency (EPA). The air quality index (AQI) is a number that runs from 0 to 500. The higher the AQI value, the greater the level of air pollution and the greater the health concern. For example, an AQI value of 50 or below represents good air quality, while an AQI value over 300 represents hazardous air quality. Refer to this guide from [AirNow.gov](https://www.airnow.gov/aqi/aqi-basics/) for more information.\n",
    "\n",
    "In this activity, you will create, modify, and update dictionaries and sets. You will also be working with more data than in previous labs to more closely resemble situations encountered by working data professionals."
   ]
  },
  {
   "cell_type": "markdown",
   "metadata": {
    "id": "nWswZUkx388N"
   },
   "source": [
    "## Tips for completing this lab\n",
    "\n",
    "As you navigate this lab, keep the following tips in mind:\n",
    "\n",
    "- `### YOUR CODE HERE ###` indicates where you should write code. Be sure to replace this with your own code before running the code cell.\n",
    "- Feel free to open the hints for additional guidance as you work on each task.\n",
    "- To enter your answer to a question, double-click the markdown cell to edit. Be sure to replace the \"[Double-click to enter your responses here.]\" with your own answer.\n",
    "- You can save your work manually by clicking File and then Save in the menu bar at the top of the notebook.\n",
    "- You can download your work locally by clicking File and then Download and then specifying your preferred file format in the menu bar at the top of the notebook.\n",
    "\n"
   ]
  },
  {
   "cell_type": "markdown",
   "metadata": {
    "id": "JlXRqG234ys5"
   },
   "source": [
    "# Task 1: Create a dictionary to store information</h2></summary>\n",
    "\n",
    "Dictionaries are useful when you need a data structure to store information that can be referenced or looked up.\n",
    "\n",
    "In this task you'll begin with three `list` objects:\n",
    "\n",
    "* `state_list` - an ordered list of the state where each data point was recorded\n",
    "* `county_list` - an ordered list of the county where each data point was recorded\n",
    "* `aqi_list` - an ordered list of AQI records\n",
    "\n",
    "As a refresher, here is an example table of some of the information contained in these variables:\n",
    "\n",
    "| state_name | county_name | aqi |\n",
    "| --- | --- | --- |\n",
    "| Arizona | Maricopa | 9 |\n",
    "| California | Alameda | 11 |\n",
    "| California | Sacramento | 35 |\n",
    "| Kentucky | Jefferson | 6 |\n",
    "| Louisiana | East Baton Rouge | 5 |\n",
    "\n",
    "\n",
    "</details>\n",
    "\n",
    "**Reminder:** This lab uses more data than the last one. This table is just a small sample of the information contained in the three lists that are provided for this activity. "
   ]
  },
  {
   "cell_type": "markdown",
   "metadata": {
    "id": "Xnom2939uK6t"
   },
   "source": [
    "## 1a: Create a list of tuples\n",
    "\n",
    "Begin with an intermediary step to prepare the information to be put in a dictionary.\n",
    "\n",
    "* Convert `state_list`, `county_list`, and `aqi_list` to a list of tuples, where each tuple contains information for a single record: `(state, county, aqi)`.\n",
    "\n",
    "* Assign the result to a variable called `epa_tuples`.\n",
    "\n"
   ]
  },
  {
   "cell_type": "code",
   "execution_count": 1,
   "metadata": {
    "id": "ifs5GtHdctXg"
   },
   "outputs": [],
   "source": [
    "# RUN THIS CELL TO IMPORT YOUR DATA\n",
    "import ada_c2_labs as lab\n",
    "state_list = lab.fetch_epa('state')\n",
    "county_list = lab.fetch_epa('county')\n",
    "aqi_list = lab.fetch_epa('aqi')"
   ]
  },
  {
   "cell_type": "code",
   "execution_count": 2,
   "metadata": {
    "id": "UFDv3-UMSSQ1"
   },
   "outputs": [
    {
     "data": {
      "text/plain": [
       "[('Arizona', 'Maricopa', 18.0),\n",
       " ('Arizona', 'Maricopa', 9.0),\n",
       " ('Arizona', 'Pima', 20.0),\n",
       " ('California', 'Alameda', 11.0),\n",
       " ('California', 'Butte', 6.0),\n",
       " ('California', 'Fresno', 11.0),\n",
       " ('California', 'Kern', 7.0),\n",
       " ('California', 'Kern', 3.0),\n",
       " ('California', 'Kern', 7.0),\n",
       " ('California', 'Los Angeles', 13.0),\n",
       " ('California', 'Los Angeles', 18.0),\n",
       " ('California', 'Mono', 5.0),\n",
       " ('California', 'Sacramento', 35.0),\n",
       " ('California', 'San Bernardino', 18.0),\n",
       " ('California', 'San Diego', 23.0),\n",
       " ('California', 'Santa Barbara', 0.0),\n",
       " ('California', 'Shasta', 11.0),\n",
       " ('Colorado', 'El Paso', 9.0),\n",
       " ('Florida', 'Duval', 15.0),\n",
       " ('Florida', 'Duval', 13.0),\n",
       " ('Florida', 'Hillsborough', 19.0),\n",
       " ('Hawaii', 'Honolulu', 10.0),\n",
       " ('Illinois', 'Sangamon', 20.0),\n",
       " ('Indiana', 'Marion', 32.0),\n",
       " ('Kentucky', 'Henderson', 8.0),\n",
       " ('Kentucky', 'Jefferson', 6.0),\n",
       " ('Kentucky', 'McCracken', 13.0),\n",
       " ('Kentucky', 'McCracken', 13.0),\n",
       " ('Louisiana', 'East Baton Rouge', 5.0),\n",
       " ('Maryland', 'Baltimore (City)', 33.0),\n",
       " ('Massachusetts', 'Suffolk', 13.0),\n",
       " ('Michigan', 'Wayne', 19.0),\n",
       " ('Minnesota', 'Saint Louis', 16.0),\n",
       " ('Missouri', 'Saint Louis', 10.0),\n",
       " ('New Jersey', 'Bergen', 41.0),\n",
       " ('New Jersey', 'Middlesex', 17.0),\n",
       " ('New Mexico', 'Bernalillo', 11.0),\n",
       " ('New Mexico', 'San Juan', 6.0),\n",
       " ('New York', 'New York', 13.0),\n",
       " ('New York', 'New York', 24.0),\n",
       " ('New York', 'Niagara', 13.0),\n",
       " ('North Carolina', 'Mecklenburg', 28.0),\n",
       " ('Ohio', 'Franklin', 10.0),\n",
       " ('Ohio', 'Hamilton', 17.0),\n",
       " ('Oklahoma', 'Oklahoma', 14.0),\n",
       " ('Oregon', 'Klamath', 31.0),\n",
       " ('Oregon', 'Multnomah', 28.0),\n",
       " ('Pennsylvania', 'Erie', 7.0),\n",
       " ('Pennsylvania', 'Philadelphia', 13.0),\n",
       " ('Tennessee', 'Shelby', 38.0),\n",
       " ('Texas', 'Bexar', 22.0),\n",
       " ('Utah', 'Salt Lake', 19.0),\n",
       " ('Vermont', 'Chittenden', 18.0),\n",
       " ('Vermont', 'Chittenden', 20.0),\n",
       " ('Virginia', 'Fairfax', 39.0),\n",
       " ('Virginia', 'Norfolk City', 15.0),\n",
       " ('Virginia', 'Richmond City', 17.0),\n",
       " ('Washington', 'King', 55.0),\n",
       " ('Washington', 'King', 22.0),\n",
       " ('Washington', 'Yakima', 35.0),\n",
       " ('Wisconsin', 'Milwaukee', 10.0),\n",
       " ('Arizona', 'Maricopa', 56.0),\n",
       " ('Arizona', 'Pima', 30.0),\n",
       " ('California', 'Humboldt', 30.0),\n",
       " ('California', 'Humboldt', 11.0),\n",
       " ('California', 'Riverside', 18.0),\n",
       " ('California', 'San Bernardino', 11.0),\n",
       " ('California', 'San Bernardino', 22.0),\n",
       " ('California', 'San Bernardino', 11.0),\n",
       " ('California', 'San Diego', 24.0),\n",
       " ('California', 'Santa Barbara', 11.0),\n",
       " ('California', 'Santa Barbara', 7.0),\n",
       " ('California', 'Santa Clara', 11.0),\n",
       " ('California', 'Sonoma', 11.0),\n",
       " ('California', 'Stanislaus', 0.0),\n",
       " ('Colorado', 'Boulder', 28.0),\n",
       " ('Colorado', 'El Paso', 9.0),\n",
       " ('Colorado', 'El Paso', 9.0),\n",
       " ('Hawaii', 'Honolulu', 6.0),\n",
       " ('Illinois', 'Sangamon', 26.0),\n",
       " ('Indiana', 'Marion', 27.0),\n",
       " ('Iowa', 'Polk', 14.0),\n",
       " ('Kansas', 'Sedgwick', 16.0),\n",
       " ('Louisiana', 'Orleans', 5.0),\n",
       " ('Maryland', 'Allegany', 9.0),\n",
       " ('Maryland', 'Montgomery', 24.0),\n",
       " ('Michigan', 'Wayne', 17.0),\n",
       " ('Minnesota', 'Hennepin', 16.0),\n",
       " ('Missouri', 'Clay', 6.0),\n",
       " ('Missouri', 'Jackson', 3.0),\n",
       " ('Montana', 'Missoula', 14.0),\n",
       " ('Nevada', 'Washoe', 52.0),\n",
       " ('Nevada', 'Washoe', 8.0),\n",
       " ('New Jersey', 'Camden', 7.0),\n",
       " ('New Mexico', 'San Juan', 17.0),\n",
       " ('New Mexico', 'San Juan', 14.0),\n",
       " ('New York', 'Monroe', 18.0),\n",
       " ('New York', 'Niagara', 6.0),\n",
       " ('New York', 'Schenectady', 19.0),\n",
       " ('Ohio', 'Franklin', 11.0),\n",
       " ('Ohio', 'Lucas', 13.0),\n",
       " ('Oklahoma', 'Cleveland', 7.0),\n",
       " ('Oklahoma', 'Tulsa', 13.0),\n",
       " ('Oklahoma', 'Tulsa', 16.0),\n",
       " ('Pennsylvania', 'Dauphin', 6.0),\n",
       " ('Pennsylvania', 'Lancaster', 5.0),\n",
       " ('Pennsylvania', 'Philadelphia', 10.0),\n",
       " ('Tennessee', 'Shelby', 74.0),\n",
       " ('Texas', 'Bexar', 6.0),\n",
       " ('Texas', 'Dallas', 2.0),\n",
       " ('Utah', 'Davis', 22.0),\n",
       " ('Utah', 'Salt Lake', 19.0),\n",
       " ('Virginia', 'Fairfax', 15.0),\n",
       " ('Virginia', 'Alexandria City', 13.0),\n",
       " ('Virginia', 'Newport News City', 8.0),\n",
       " ('Washington', 'King', 44.0),\n",
       " ('Washington', 'Snohomish', 76.0),\n",
       " ('Washington', 'Spokane', 32.0),\n",
       " ('West Virginia', 'Greenbrier', 2.0),\n",
       " ('Wisconsin', 'Milwaukee', 22.0),\n",
       " ('Puerto Rico', 'San Juan', 35.0),\n",
       " ('Puerto Rico', 'San Juan', 18.0),\n",
       " ('Alabama', 'Jefferson', 23.0),\n",
       " ('Arizona', 'Maricopa', 66.0),\n",
       " ('Arizona', 'Maricopa', 14.0),\n",
       " ('Arizona', 'Maricopa', 60.0),\n",
       " ('Arizona', 'Pima', 20.0),\n",
       " ('Arizona', 'Pima', 36.0),\n",
       " ('California', 'Butte', 9.0),\n",
       " ('California', 'Kern', 19.0),\n",
       " ('California', 'Los Angeles', 23.0),\n",
       " ('California', 'Los Angeles', 33.0),\n",
       " ('California', 'Los Angeles', 10.0),\n",
       " ('California', 'Monterey', 16.0),\n",
       " ('California', 'Placer', 13.0),\n",
       " ('California', 'Santa Barbara', 47.0),\n",
       " ('California', 'Santa Barbara', 0.0),\n",
       " ('California', 'Santa Clara', 6.0),\n",
       " ('California', 'Tulare', 11.0),\n",
       " ('Colorado', 'El Paso', 25.0),\n",
       " ('Colorado', 'El Paso', 7.0),\n",
       " ('Colorado', 'El Paso', 10.0),\n",
       " ('Colorado', 'El Paso', 8.0),\n",
       " ('District Of Columbia', 'District of Columbia', 22.0),\n",
       " ('Florida', 'Broward', 17.0),\n",
       " ('Florida', 'Broward', 24.0),\n",
       " ('Florida', 'Broward', 15.0),\n",
       " ('Florida', 'Hillsborough', 13.0),\n",
       " ('Georgia', 'DeKalb', 8.0),\n",
       " ('Illinois', 'Sangamon', 16.0),\n",
       " ('Indiana', 'St. Joseph', 9.0),\n",
       " ('Indiana', 'Vanderburgh', 15.0),\n",
       " ('Massachusetts', 'Suffolk', 23.0),\n",
       " ('Michigan', 'Macomb', 31.0),\n",
       " ('Minnesota', 'Ramsey', 20.0),\n",
       " ('Nebraska', 'Douglas', 28.0),\n",
       " ('Nevada', 'Clark', 13.0),\n",
       " ('New Jersey', 'Atlantic', 26.0),\n",
       " ('New Jersey', 'Bergen', 11.0),\n",
       " ('New Mexico', 'Bernalillo', 13.0),\n",
       " ('New York', 'Nassau', 7.0),\n",
       " ('New York', 'Niagara', 9.0),\n",
       " ('North Carolina', 'Mecklenburg', 11.0),\n",
       " ('Pennsylvania', 'Berks', 19.0),\n",
       " ('Pennsylvania', 'Berks', 16.0),\n",
       " ('Pennsylvania', 'Erie', 18.0),\n",
       " ('Pennsylvania', 'Lackawanna', 5.0),\n",
       " ('Pennsylvania', 'Philadelphia', 13.0),\n",
       " ('Pennsylvania', 'Washington', 9.0),\n",
       " ('Texas', 'El Paso', 47.0),\n",
       " ('Utah', 'Salt Lake', 31.0),\n",
       " ('Utah', 'Utah', 42.0),\n",
       " ('Utah', 'Utah', 15.0),\n",
       " ('Washington', 'Yakima', 58.0),\n",
       " ('Washington', 'Yakima', 57.0),\n",
       " ('Wisconsin', 'Milwaukee', 14.0),\n",
       " ('Wisconsin', 'Milwaukee', 9.0),\n",
       " ('Wisconsin', 'Racine', 35.0),\n",
       " ('Puerto Rico', 'San Juan', 28.0),\n",
       " ('Country Of Mexico', 'CHIHUAHUA STATE', 45.0),\n",
       " ('Arizona', 'Maricopa', 8.0),\n",
       " ('Arizona', 'Maricopa', 18.0),\n",
       " ('Arizona', 'Pima', 16.0),\n",
       " ('Arizona', 'Pima', 30.0),\n",
       " ('Arizona', 'Pima', 5.0),\n",
       " ('California', 'Alameda', 11.0),\n",
       " ('California', 'Contra Costa', 15.0),\n",
       " ('California', 'El Dorado', 16.0),\n",
       " ('California', 'Fresno', 5.0),\n",
       " ('California', 'Mendocino', 0.0),\n",
       " ('California', 'Riverside', 13.0),\n",
       " ('California', 'Riverside', 40.0),\n",
       " ('California', 'San Diego', 10.0),\n",
       " ('California', 'Solano', 3.0),\n",
       " ('Colorado', 'Arapahoe', 15.0),\n",
       " ('Colorado', 'Denver', 28.0),\n",
       " ('Colorado', 'Larimer', 5.0),\n",
       " ('Colorado', 'Larimer', 6.0),\n",
       " ('Connecticut', 'Fairfield', 24.0),\n",
       " ('Florida', 'Broward', 5.0),\n",
       " ('Florida', 'Duval', 13.0),\n",
       " ('Florida', 'Duval', 16.0),\n",
       " ('Florida', 'Miami-Dade', 43.0),\n",
       " ('Hawaii', 'Honolulu', 5.0),\n",
       " ('Hawaii', 'Honolulu', 7.0),\n",
       " ('Illinois', 'Sangamon', 14.0),\n",
       " ('Iowa', 'Polk', 18.0),\n",
       " ('Kentucky', 'Jefferson', 15.0),\n",
       " ('Kentucky', 'McCracken', 8.0),\n",
       " ('Maryland', \"Prince George's\", 3.0),\n",
       " ('Massachusetts', 'Hampden', 19.0),\n",
       " ('Michigan', 'Kalamazoo', 6.0),\n",
       " ('Michigan', 'Kalamazoo', 6.0),\n",
       " ('Minnesota', 'Hennepin', 32.0),\n",
       " ('Nevada', 'Washoe', 13.0),\n",
       " ('New Jersey', 'Hudson', 32.0),\n",
       " ('New Jersey', 'Middlesex', 20.0),\n",
       " ('New Jersey', 'Union', 16.0),\n",
       " ('New York', 'Kings', 48.0),\n",
       " ('North Carolina', 'Forsyth', 18.0),\n",
       " ('North Carolina', 'Forsyth', 23.0),\n",
       " ('Ohio', 'Cuyahoga', 36.0),\n",
       " ('Ohio', 'Cuyahoga', 31.0),\n",
       " ('Ohio', 'Cuyahoga', 11.0),\n",
       " ('Ohio', 'Mahoning', 2.0),\n",
       " ('Oregon', 'Jackson', 51.0),\n",
       " ('Oregon', 'Lane', 32.0),\n",
       " ('Pennsylvania', 'Allegheny', 5.0),\n",
       " ('Pennsylvania', 'Luzerne', 11.0),\n",
       " ('Tennessee', 'Knox', 27.0),\n",
       " ('Tennessee', 'Shelby', 7.0),\n",
       " ('Texas', 'Bexar', 34.0),\n",
       " ('Texas', 'Bexar', 18.0),\n",
       " ('Texas', 'Dallas', 25.0),\n",
       " ('Texas', 'El Paso', 7.0),\n",
       " ('Texas', 'El Paso', 18.0),\n",
       " ('Texas', 'Harris', 14.0),\n",
       " ('Utah', 'Salt Lake', 20.0),\n",
       " ('Utah', 'Utah', 23.0),\n",
       " ('Virginia', 'Arlington', 16.0),\n",
       " ('Virginia', 'Norfolk City', 6.0),\n",
       " ('West Virginia', 'Kanawha', 8.0),\n",
       " ('Alabama', 'Jefferson', 5.0),\n",
       " ('Arizona', 'Pima', 13.0),\n",
       " ('Arizona', 'Pima', 11.0),\n",
       " ('Arizona', 'Pima', 5.0),\n",
       " ('California', 'Alameda', 11.0),\n",
       " ('California', 'Butte', 14.0),\n",
       " ('California', 'El Dorado', 8.0),\n",
       " ('California', 'El Dorado', 6.0),\n",
       " ('California', 'Fresno', 35.0),\n",
       " ('California', 'Los Angeles', 38.0),\n",
       " ('California', 'Los Angeles', 22.0),\n",
       " ('California', 'Los Angeles', 93.0),\n",
       " ('California', 'Los Angeles', 10.0),\n",
       " ('California', 'Los Angeles', 11.0),\n",
       " ('California', 'Placer', 6.0),\n",
       " ('California', 'Riverside', 43.0),\n",
       " ('California', 'San Bernardino', 5.0),\n",
       " ('California', 'San Diego', 16.0),\n",
       " ('California', 'San Diego', 7.0),\n",
       " ('California', 'San Luis Obispo', 13.0),\n",
       " ('California', 'Santa Clara', 10.0),\n",
       " ('California', 'Ventura', 7.0),\n",
       " ('Colorado', 'Boulder', 11.0),\n",
       " ('Colorado', 'El Paso', 31.0),\n",
       " ('Colorado', 'El Paso', 23.0),\n",
       " ('Colorado', 'El Paso', 9.0),\n",
       " ('Colorado', 'Mesa', 20.0),\n",
       " ('Connecticut', 'Fairfield', 24.0),\n",
       " ('Florida', 'Broward', 8.0),\n",
       " ('Florida', 'Duval', 11.0),\n",
       " ('Florida', 'Duval', 18.0),\n",
       " ('Florida', 'Hillsborough', 15.0),\n",
       " ('Florida', 'Hillsborough', 17.0),\n",
       " ('Florida', 'Orange', 9.0),\n",
       " ('Florida', 'Palm Beach', 18.0),\n",
       " ('Florida', 'Pinellas', 7.0),\n",
       " ('Florida', 'Sarasota', 7.0),\n",
       " ('Hawaii', 'Honolulu', 7.0),\n",
       " ('Illinois', 'Cook', 9.0),\n",
       " ('Indiana', 'St. Joseph', 17.0),\n",
       " ('Kansas', 'Sedgwick', 9.0),\n",
       " ('Maryland', 'Baltimore', 15.0),\n",
       " ('Michigan', 'Wayne', 7.0),\n",
       " ('Missouri', 'St. Louis City', 6.0),\n",
       " ('Montana', 'Missoula', 19.0),\n",
       " ('Nebraska', 'Douglas', 8.0),\n",
       " ('Nebraska', 'Lancaster', 23.0),\n",
       " ('New Jersey', 'Burlington', 45.0),\n",
       " ('New Jersey', 'Camden', 18.0),\n",
       " ('New Jersey', 'Morris', 17.0),\n",
       " ('New Mexico', 'Bernalillo', 54.0),\n",
       " ('New Mexico', 'Bernalillo', 10.0),\n",
       " ('New Mexico', 'Bernalillo', 16.0),\n",
       " ('New York', 'New York', 39.0),\n",
       " ('New York', 'Niagara', 6.0),\n",
       " ('North Carolina', 'Forsyth', 8.0),\n",
       " ('Ohio', 'Cuyahoga', 17.0),\n",
       " ('Ohio', 'Cuyahoga', 14.0),\n",
       " ('Ohio', 'Cuyahoga', 14.0),\n",
       " ('Ohio', 'Cuyahoga', 13.0),\n",
       " ('Ohio', 'Summit', 18.0),\n",
       " ('Oregon', 'Lane', 9.0),\n",
       " ('Pennsylvania', 'Allegheny', 9.0),\n",
       " ('Pennsylvania', 'Allegheny', 22.0),\n",
       " ('Pennsylvania', 'Lackawanna', 11.0),\n",
       " ('Pennsylvania', 'Schuylkill', 9.0),\n",
       " ('Tennessee', 'Knox', 39.0),\n",
       " ('Texas', 'El Paso', 40.0),\n",
       " ('Texas', 'El Paso', 30.0),\n",
       " ('Texas', 'Harris', 11.0),\n",
       " ('Texas', 'Harris', 16.0),\n",
       " ('Texas', 'Tarrant', 10.0),\n",
       " ('Utah', 'Salt Lake', 9.0),\n",
       " ('Utah', 'Utah', 38.0),\n",
       " ('Utah', 'Utah', 16.0),\n",
       " ('Virginia', 'Fairfax', 47.0),\n",
       " ('Virginia', 'Fairfax', 9.0),\n",
       " ('West Virginia', 'Brooke', 6.0),\n",
       " ('West Virginia', 'Hancock', 5.0),\n",
       " ('Arizona', 'Maricopa', 33.0),\n",
       " ('California', 'El Dorado', 18.0),\n",
       " ('California', 'Los Angeles', 17.0),\n",
       " ('California', 'Los Angeles', 24.0),\n",
       " ('California', 'Marin', 8.0),\n",
       " ('California', 'Monterey', 7.0),\n",
       " ('California', 'Monterey', 1.0),\n",
       " ('California', 'Napa', 10.0),\n",
       " ('California', 'Placer', 16.0),\n",
       " ('California', 'San Bernardino', 6.0),\n",
       " ('California', 'San Diego', 6.0),\n",
       " ('California', 'San Francisco', 20.0),\n",
       " ('California', 'San Luis Obispo', 6.0),\n",
       " ('California', 'Sutter', 28.0),\n",
       " ('California', 'Tulare', 8.0),\n",
       " ('California', 'Ventura', 19.0),\n",
       " ('Colorado', 'Denver', 19.0),\n",
       " ('Colorado', 'El Paso', 36.0),\n",
       " ('Colorado', 'El Paso', 24.0),\n",
       " ('Colorado', 'El Paso', 5.0),\n",
       " ('Colorado', 'El Paso', 20.0),\n",
       " ('Connecticut', 'Fairfield', 10.0),\n",
       " ('District Of Columbia', 'District of Columbia', 7.0),\n",
       " ('Florida', 'Broward', 15.0),\n",
       " ('Florida', 'Broward', 8.0),\n",
       " ('Florida', 'Duval', 6.0),\n",
       " ('Florida', 'Miami-Dade', 7.0),\n",
       " ('Florida', 'Pinellas', 15.0),\n",
       " ('Georgia', 'Fulton', 25.0),\n",
       " ('Hawaii', 'Honolulu', 6.0),\n",
       " ('Illinois', 'Cook', 19.0),\n",
       " ('Illinois', 'Peoria', 40.0),\n",
       " ('Indiana', 'Allen', 19.0),\n",
       " ('Indiana', 'Allen', 9.0),\n",
       " ('Indiana', 'St. Joseph', 20.0),\n",
       " ('Indiana', 'Vigo', 14.0),\n",
       " ('Kansas', 'Sherman', 0.0),\n",
       " ('Kentucky', 'Jefferson', 7.0),\n",
       " ('Kentucky', 'McCracken', 6.0),\n",
       " ('Minnesota', 'Hennepin', 13.0),\n",
       " ('Minnesota', 'Stearns', 22.0),\n",
       " ('Missouri', 'Saint Louis', 8.0),\n",
       " ('Missouri', 'Taney', 9.0),\n",
       " ('Nebraska', 'Douglas', 50.0),\n",
       " ('Nevada', 'Douglas', 8.0),\n",
       " ('Nevada', 'Washoe', 13.0),\n",
       " ('New Jersey', 'Bergen', 11.0),\n",
       " ('New Jersey', 'Camden', 8.0),\n",
       " ('New Jersey', 'Hudson', 30.0),\n",
       " ('New Mexico', 'Dona Ana', 11.0),\n",
       " ('New Mexico', 'Sandoval', 6.0),\n",
       " ('North Carolina', 'Chatham', 5.0),\n",
       " ('North Carolina', 'Cumberland', 10.0),\n",
       " ('North Carolina', 'Forsyth', 6.0),\n",
       " ('North Carolina', 'Forsyth', 6.0),\n",
       " ('North Carolina', 'Mecklenburg', 30.0),\n",
       " ('Ohio', 'Hamilton', 9.0),\n",
       " ('Ohio', 'Stark', 13.0),\n",
       " ('Oklahoma', 'Comanche', 13.0),\n",
       " ('Pennsylvania', 'Allegheny', 8.0),\n",
       " ('Pennsylvania', 'Beaver', 7.0),\n",
       " ('Pennsylvania', 'Cambria', 23.0),\n",
       " ('Pennsylvania', 'Schuylkill', 6.0),\n",
       " ('Tennessee', 'Davidson', 18.0),\n",
       " ('Texas', 'Harris', 9.0),\n",
       " ('Texas', 'Harris', 34.0),\n",
       " ('Texas', 'Tarrant', 5.0),\n",
       " ('Vermont', 'Chittenden', 3.0),\n",
       " ('Virginia', 'Fairfax', 6.0),\n",
       " ('Virginia', 'Newport News City', 11.0),\n",
       " ('Washington', 'King', 45.0),\n",
       " ('Washington', 'King', 35.0),\n",
       " ('Washington', 'Thurston', 32.0),\n",
       " ('Wisconsin', 'Milwaukee', 2.0),\n",
       " ('Wisconsin', 'Milwaukee', 7.0),\n",
       " ('Country Of Mexico', 'CHIHUAHUA STATE', 13.0),\n",
       " ('Alabama', 'Montgomery', 0.0),\n",
       " ('Arizona', 'Maricopa', 30.0),\n",
       " ('California', 'Fresno', 23.0),\n",
       " ('California', 'Kern', 8.0),\n",
       " ('California', 'Los Angeles', 20.0),\n",
       " ('California', 'Monterey', 6.0),\n",
       " ('California', 'Orange', 47.0),\n",
       " ('California', 'Orange', 3.0),\n",
       " ('California', 'Placer', 10.0),\n",
       " ('California', 'Sacramento', 7.0),\n",
       " ('California', 'Sacramento', 5.0),\n",
       " ('California', 'San Bernardino', 2.0),\n",
       " ('California', 'San Bernardino', 10.0),\n",
       " ('California', 'San Francisco', 8.0),\n",
       " ('California', 'San Joaquin', 3.0),\n",
       " ('California', 'San Joaquin', 5.0),\n",
       " ('California', 'Santa Clara', 10.0),\n",
       " ('Colorado', 'Larimer', 16.0),\n",
       " ('District Of Columbia', 'District of Columbia', 22.0),\n",
       " ('District Of Columbia', 'District of Columbia', 13.0),\n",
       " ('Florida', 'Broward', 15.0),\n",
       " ('Florida', 'Duval', 10.0),\n",
       " ('Florida', 'Pinellas', 20.0),\n",
       " ('Florida', 'Sarasota', 36.0),\n",
       " ('Hawaii', 'Honolulu', 11.0),\n",
       " ('Illinois', 'Cook', 10.0),\n",
       " ('Illinois', 'Cook', 11.0),\n",
       " ('Illinois', 'Madison', 17.0),\n",
       " ('Illinois', 'Madison', 14.0),\n",
       " ('Illinois', 'Will', 1.0),\n",
       " ('Kentucky', 'Jefferson', 16.0),\n",
       " ('Kentucky', 'Kenton', 17.0),\n",
       " ('Louisiana', 'East Baton Rouge', 32.0),\n",
       " ('Louisiana', 'East Baton Rouge', 49.0),\n",
       " ('Missouri', 'Jackson', 2.0),\n",
       " ('Nevada', 'Clark', 15.0),\n",
       " ('Nevada', 'Washoe', 32.0),\n",
       " ('New Jersey', 'Middlesex', 25.0),\n",
       " ('New Jersey', 'Union', 49.0),\n",
       " ('New Mexico', 'Bernalillo', 6.0),\n",
       " ('New York', 'Nassau', 23.0),\n",
       " ('North Carolina', 'Forsyth', 19.0),\n",
       " ('North Carolina', 'Gaston', 19.0),\n",
       " ('North Carolina', 'Wake', 32.0),\n",
       " ('Ohio', 'Franklin', 13.0),\n",
       " ('Ohio', 'Lake', 20.0),\n",
       " ('Ohio', 'Stark', 10.0),\n",
       " ('Pennsylvania', 'Dauphin', 16.0),\n",
       " ('Pennsylvania', 'Dauphin', 14.0),\n",
       " ('Pennsylvania', 'Philadelphia', 24.0),\n",
       " ('Texas', 'El Paso', 40.0),\n",
       " ('Texas', 'El Paso', 15.0),\n",
       " ('Texas', 'Harris', 9.0),\n",
       " ('Texas', 'Harris', 11.0),\n",
       " ('Texas', 'Tarrant', 15.0),\n",
       " ('Texas', 'Travis', 11.0),\n",
       " ('Utah', 'Salt Lake', 13.0),\n",
       " ('Utah', 'Utah', 40.0),\n",
       " ('Vermont', 'Chittenden', 49.0),\n",
       " ('Virginia', 'Fairfax', 8.0),\n",
       " ('Virginia', 'Richmond City', 8.0),\n",
       " ('Washington', 'King', 25.0),\n",
       " ('Washington', 'King', 13.0),\n",
       " ('Washington', 'Snohomish', 40.0),\n",
       " ('Washington', 'Spokane', 19.0),\n",
       " ('West Virginia', 'Ohio', 16.0),\n",
       " ('Wisconsin', 'Milwaukee', 3.0),\n",
       " ('Country Of Mexico', 'BAJA CALIFORNIA NORTE', 14.0),\n",
       " ('Alaska', 'Fairbanks North Star ', 23.0),\n",
       " ('Arizona', 'Maricopa', 22.0),\n",
       " ('Arizona', 'Maricopa', 11.0),\n",
       " ('California', 'Alameda', 15.0),\n",
       " ('California', 'Calaveras', 3.0),\n",
       " ('California', 'Contra Costa', 13.0),\n",
       " ('California', 'Fresno', 15.0),\n",
       " ('California', 'Los Angeles', 59.0),\n",
       " ('California', 'Orange', 16.0),\n",
       " ('California', 'Sacramento', 20.0),\n",
       " ('California', 'Sacramento', 5.0),\n",
       " ('California', 'San Diego', 24.0),\n",
       " ('California', 'San Diego', 6.0),\n",
       " ('California', 'San Francisco', 16.0),\n",
       " ('California', 'San Francisco', 16.0),\n",
       " ('California', 'Santa Barbara', 2.0),\n",
       " ('California', 'Sutter', 5.0),\n",
       " ('California', 'Tulare', 17.0),\n",
       " ('Colorado', 'Denver', 25.0),\n",
       " ('Colorado', 'Weld', 28.0),\n",
       " ('Colorado', 'Weld', 16.0),\n",
       " ('Colorado', 'Weld', 13.0),\n",
       " ('Florida', 'Sarasota', 15.0),\n",
       " ('Hawaii', 'Honolulu', 2.0),\n",
       " ('Hawaii', 'Honolulu', 13.0),\n",
       " ('Iowa', 'Linn', 9.0),\n",
       " ('Kentucky', 'Bell', 11.0),\n",
       " ('Kentucky', 'Jefferson', 10.0),\n",
       " ('Massachusetts', 'Hampden', 11.0),\n",
       " ('Michigan', 'Oakland', 11.0),\n",
       " ('Missouri', 'Saint Louis', 11.0),\n",
       " ('Missouri', 'Saint Louis', 6.0),\n",
       " ('Missouri', 'Saint Louis', 10.0),\n",
       " ('Missouri', 'Saint Louis', 6.0),\n",
       " ('Nevada', 'Clark', 6.0),\n",
       " ('Nevada', 'Clark', 19.0),\n",
       " ('New Jersey', 'Essex', 11.0),\n",
       " ('New Jersey', 'Essex', 13.0),\n",
       " ('New Mexico', 'Bernalillo', 6.0),\n",
       " ('New York', 'Monroe', 9.0),\n",
       " ('North Carolina', 'Forsyth', 9.0),\n",
       " ('North Carolina', 'Mecklenburg', 10.0),\n",
       " ('North Carolina', 'Mecklenburg', 36.0),\n",
       " ('Ohio', 'Cuyahoga', 8.0),\n",
       " ('Ohio', 'Montgomery', 6.0),\n",
       " ('Ohio', 'Stark', 7.0),\n",
       " ('Oklahoma', 'Comanche', 8.0),\n",
       " ('Oklahoma', 'Oklahoma', 30.0),\n",
       " ('Oregon', 'Jackson', 24.0),\n",
       " ('Oregon', 'Multnomah', 23.0),\n",
       " ('Pennsylvania', 'Allegheny', 15.0),\n",
       " ('Pennsylvania', 'Erie', 6.0),\n",
       " ('Pennsylvania', 'Monroe', 1.0),\n",
       " ('Pennsylvania', 'Washington', 2.0),\n",
       " ('Pennsylvania', 'Washington', 0.0),\n",
       " ('Pennsylvania', 'Westmoreland', 1.0),\n",
       " ('Tennessee', 'Davidson', 24.0),\n",
       " ('Tennessee', 'Davidson', 28.0),\n",
       " ('Tennessee', 'Shelby', 9.0),\n",
       " ('Tennessee', 'Shelby', 9.0),\n",
       " ('Texas', 'Bexar', 11.0),\n",
       " ('Texas', 'Webb', 10.0),\n",
       " ('Utah', 'Salt Lake', 15.0),\n",
       " ('Vermont', 'Rutland', 15.0),\n",
       " ('Virginia', 'Alexandria City', 6.0),\n",
       " ('Virginia', 'Richmond City', 0.0),\n",
       " ('Washington', 'Clark', 15.0),\n",
       " ('Washington', 'Clark', 15.0),\n",
       " ('Washington', 'Spokane', 13.0),\n",
       " ('Wisconsin', 'Milwaukee', 5.0),\n",
       " ('Wisconsin', 'Milwaukee', 13.0),\n",
       " ('Wisconsin', 'Milwaukee', 10.0),\n",
       " ('Puerto Rico', 'San Juan', 18.0),\n",
       " ('Country Of Mexico', 'BAJA CALIFORNIA NORTE', 36.0),\n",
       " ('Alaska', 'Anchorage ', 39.0),\n",
       " ('Arizona', 'Maricopa', 7.0),\n",
       " ('Arizona', 'Maricopa', 31.0),\n",
       " ('California', 'Alameda', 5.0),\n",
       " ('California', 'Alameda', 11.0),\n",
       " ('California', 'El Dorado', 23.0),\n",
       " ('California', 'Los Angeles', 13.0),\n",
       " ('California', 'Los Angeles', 20.0),\n",
       " ('California', 'Mendocino', 8.0),\n",
       " ('California', 'Sonoma', 17.0),\n",
       " ('Colorado', 'Boulder', 7.0),\n",
       " ('Colorado', 'Denver', 30.0),\n",
       " ('Colorado', 'El Paso', 11.0),\n",
       " ('Florida', 'Hillsborough', 20.0),\n",
       " ('Florida', 'Hillsborough', 11.0),\n",
       " ('Florida', 'Orange', 17.0),\n",
       " ('Florida', 'Palm Beach', 17.0),\n",
       " ('Illinois', 'Cook', 10.0),\n",
       " ('Illinois', 'Will', 2.0),\n",
       " ('Indiana', 'Marion', 19.0),\n",
       " ('Iowa', 'Polk', 11.0),\n",
       " ('Maryland', 'Baltimore (City)', 18.0),\n",
       " ('Massachusetts', 'Hampden', 7.0),\n",
       " ('Massachusetts', 'Suffolk', 24.0),\n",
       " ('Massachusetts', 'Worcester', 24.0),\n",
       " ('Minnesota', 'Ramsey', 10.0),\n",
       " ('Missouri', 'Greene', 11.0),\n",
       " ('Missouri', 'Jackson', 8.0),\n",
       " ('Missouri', 'St. Louis City', 15.0),\n",
       " ('Montana', 'Flathead', 28.0),\n",
       " ('Nebraska', 'Douglas', 3.0),\n",
       " ('Nevada', 'Clark', 16.0),\n",
       " ('Nevada', 'Clark', 28.0),\n",
       " ('Nevada', 'Douglas', 14.0),\n",
       " ('Nevada', 'Washoe', 7.0),\n",
       " ('New Jersey', 'Union', 35.0),\n",
       " ('New Mexico', 'Bernalillo', 10.0),\n",
       " ('New Mexico', 'Bernalillo', 26.0),\n",
       " ('New York', 'Erie', 5.0),\n",
       " ('New York', 'Monroe', 1.0),\n",
       " ('New York', 'New York', 13.0),\n",
       " ('New York', 'Niagara', 5.0),\n",
       " ('North Carolina', 'Durham', 16.0),\n",
       " ('North Carolina', 'Durham', 18.0),\n",
       " ('Ohio', 'Summit', 11.0),\n",
       " ('Oklahoma', 'Cleveland', 16.0),\n",
       " ('Oklahoma', 'Oklahoma', 13.0),\n",
       " ('Oregon', 'Deschutes', 34.0),\n",
       " ('Pennsylvania', 'Bucks', 5.0),\n",
       " ('Pennsylvania', 'Lackawanna', 0.0),\n",
       " ('Pennsylvania', 'Philadelphia', 11.0),\n",
       " ('Tennessee', 'Davidson', 10.0),\n",
       " ('Tennessee', 'Shelby', 15.0),\n",
       " ('Texas', 'Bexar', 14.0),\n",
       " ('Texas', 'Dallas', 6.0),\n",
       " ('Texas', 'El Paso', 10.0),\n",
       " ('Texas', 'El Paso', 15.0),\n",
       " ('Utah', 'Salt Lake', 25.0),\n",
       " ('Vermont', 'Chittenden', 3.0),\n",
       " ('Virginia', 'Fairfax', 9.0),\n",
       " ('Washington', 'Spokane', 20.0),\n",
       " ('Wisconsin', 'Milwaukee', 2.0),\n",
       " ('Wisconsin', 'Waukesha', 3.0),\n",
       " ('Puerto Rico', 'San Juan', 17.0),\n",
       " ('Country Of Mexico', 'BAJA CALIFORNIA NORTE', 14.0),\n",
       " ('Country Of Mexico', 'CHIHUAHUA STATE', 34.0),\n",
       " ('Alabama', 'Jefferson', 5.0),\n",
       " ('Arizona', 'Maricopa', 18.0),\n",
       " ('Arizona', 'Maricopa', 66.0),\n",
       " ('Arizona', 'Maricopa', 22.0),\n",
       " ('Arizona', 'Maricopa', 25.0),\n",
       " ('California', 'El Dorado', 6.0),\n",
       " ('California', 'Los Angeles', 14.0),\n",
       " ('California', 'Los Angeles', 28.0),\n",
       " ('California', 'Los Angeles', 16.0),\n",
       " ('California', 'Orange', 10.0),\n",
       " ('California', 'Orange', 47.0),\n",
       " ('California', 'Sacramento', 14.0),\n",
       " ('California', 'San Diego', 39.0),\n",
       " ('California', 'Santa Barbara', 2.0),\n",
       " ('California', 'Santa Barbara', 2.0),\n",
       " ('California', 'Santa Clara', 36.0),\n",
       " ('California', 'Solano', 14.0),\n",
       " ('California', 'Yolo', 6.0),\n",
       " ('Colorado', 'Boulder', 16.0),\n",
       " ('Colorado', 'Boulder', 14.0),\n",
       " ('Colorado', 'El Paso', 5.0),\n",
       " ('Colorado', 'El Paso', 28.0),\n",
       " ('Florida', 'Broward', 8.0),\n",
       " ('Florida', 'Sarasota', 11.0),\n",
       " ('Florida', 'Sarasota', 39.0),\n",
       " ('Hawaii', 'Honolulu', 11.0),\n",
       " ('Hawaii', 'Honolulu', 14.0),\n",
       " ('Hawaii', 'Honolulu', 17.0),\n",
       " ('Illinois', 'Will', 3.0),\n",
       " ('Kentucky', 'Fayette', 1.0),\n",
       " ('Massachusetts', 'Worcester', 6.0),\n",
       " ('Michigan', 'Wayne', 7.0),\n",
       " ('Minnesota', 'Anoka', 5.0),\n",
       " ('Minnesota', 'Dakota', 3.0),\n",
       " ('Minnesota', 'Saint Louis', 9.0),\n",
       " ('Missouri', 'Jackson', 8.0),\n",
       " ('Missouri', 'Saint Louis', 7.0),\n",
       " ('Missouri', 'Saint Louis', 2.0),\n",
       " ('Nebraska', 'Douglas', 8.0),\n",
       " ('Nebraska', 'Lancaster', 14.0),\n",
       " ('Nebraska', 'Lancaster', 8.0),\n",
       " ('Nevada', 'Clark', 0.0),\n",
       " ('Nevada', 'Clark', 15.0),\n",
       " ('Nevada', 'Carson City', 13.0),\n",
       " ('New Jersey', 'Monmouth', 19.0),\n",
       " ('New Mexico', 'Bernalillo', 20.0),\n",
       " ('New Mexico', 'Dona Ana', 30.0),\n",
       " ('New York', 'Erie', 9.0),\n",
       " ('New York', 'Nassau', 6.0),\n",
       " ('New York', 'New York', 10.0),\n",
       " ('New York', 'Queens', 7.0),\n",
       " ('North Carolina', 'Mecklenburg', 13.0),\n",
       " ('Ohio', 'Jefferson', 13.0),\n",
       " ('Ohio', 'Montgomery', 5.0),\n",
       " ('Oklahoma', 'Comanche', 3.0),\n",
       " ('Oklahoma', 'Oklahoma', 9.0),\n",
       " ('Pennsylvania', 'Allegheny', 3.0),\n",
       " ('Pennsylvania', 'Lawrence', 14.0),\n",
       " ('Pennsylvania', 'Lehigh', 2.0),\n",
       " ('Pennsylvania', 'Washington', 1.0),\n",
       " ('Pennsylvania', 'Westmoreland', 0.0),\n",
       " ('Pennsylvania', 'Westmoreland', 1.0),\n",
       " ('Pennsylvania', 'York', 1.0),\n",
       " ('Tennessee', 'Davidson', 8.0),\n",
       " ('Tennessee', 'Shelby', 3.0),\n",
       " ('Tennessee', 'Shelby', 23.0),\n",
       " ('Tennessee', 'Sullivan', 13.0),\n",
       " ('Texas', 'Bexar', 7.0),\n",
       " ('Texas', 'El Paso', 6.0),\n",
       " ('Texas', 'Webb', 18.0),\n",
       " ('Utah', 'Weber', 7.0),\n",
       " ('Virginia', 'Fairfax', 3.0),\n",
       " ('Virginia', 'Norfolk City', 14.0),\n",
       " ('Washington', 'King', 25.0),\n",
       " ('West Virginia', 'Hancock', 11.0),\n",
       " ('Wisconsin', 'Waukesha', 2.0),\n",
       " ('Country Of Mexico', 'BAJA CALIFORNIA NORTE', 17.0),\n",
       " ('Alabama', 'Jefferson', 17.0),\n",
       " ('Alabama', 'Jefferson', 6.0),\n",
       " ('Alaska', 'Anchorage ', 19.0),\n",
       " ('Alaska', 'Anchorage ', 18.0),\n",
       " ('Arizona', 'Maricopa', 22.0),\n",
       " ('California', 'Alameda', 6.0),\n",
       " ('California', 'Contra Costa', 8.0),\n",
       " ('California', 'El Dorado', 1.0),\n",
       " ('California', 'Imperial', 13.0),\n",
       " ('California', 'Los Angeles', 9.0),\n",
       " ('California', 'Los Angeles', 17.0),\n",
       " ('California', 'Orange', 5.0),\n",
       " ('California', 'Riverside', 7.0),\n",
       " ('California', 'Riverside', 8.0),\n",
       " ('California', 'San Diego', 6.0),\n",
       " ('California', 'Tulare', 10.0),\n",
       " ('California', 'Tulare', 5.0),\n",
       " ('California', 'Ventura', 5.0),\n",
       " ('California', 'Ventura', 2.0),\n",
       " ('Colorado', 'Boulder', 10.0),\n",
       " ('Colorado', 'Larimer', 18.0),\n",
       " ('Connecticut', 'Fairfield', 13.0),\n",
       " ('Connecticut', 'Hartford', 26.0),\n",
       " ('Florida', 'Broward', 11.0),\n",
       " ('Florida', 'Palm Beach', 3.0),\n",
       " ('Florida', 'Pinellas', 7.0),\n",
       " ('Florida', 'Sarasota', 22.0),\n",
       " ('Illinois', 'Cook', 7.0),\n",
       " ('Illinois', 'Cook', 24.0),\n",
       " ('Indiana', 'Allen', 11.0),\n",
       " ('Iowa', 'Polk', 18.0),\n",
       " ('Kentucky', 'McCracken', 0.0),\n",
       " ('Louisiana', 'East Baton Rouge', 9.0),\n",
       " ('Massachusetts', 'Hampden', 7.0),\n",
       " ('Massachusetts', 'Hampden', 8.0),\n",
       " ('Massachusetts', 'Worcester', 9.0),\n",
       " ('Michigan', 'Kent', 3.0),\n",
       " ('Michigan', 'Wayne', 11.0),\n",
       " ('Michigan', 'Wayne', 5.0),\n",
       " ('Missouri', 'Jackson', 6.0),\n",
       " ('Montana', 'Flathead', 9.0),\n",
       " ('Montana', 'Missoula', 11.0),\n",
       " ('Nebraska', 'Douglas', 18.0),\n",
       " ('Nevada', 'Clark', 0.0),\n",
       " ('Nevada', 'Clark', 0.0),\n",
       " ('Nevada', 'Clark', 18.0),\n",
       " ('Nevada', 'Washoe', 6.0),\n",
       " ('Nevada', 'Washoe', 24.0),\n",
       " ('New Jersey', 'Bergen', 24.0),\n",
       " ('New Jersey', 'Camden', 5.0),\n",
       " ('New Jersey', 'Camden', 2.0),\n",
       " ('New Jersey', 'Essex', 6.0),\n",
       " ('New Jersey', 'Middlesex', 11.0),\n",
       " ('New Jersey', 'Union', 15.0),\n",
       " ('New Mexico', 'Dona Ana', 14.0),\n",
       " ('North Carolina', 'Mecklenburg', 7.0),\n",
       " ('Ohio', 'Hamilton', 18.0),\n",
       " ('Ohio', 'Summit', 15.0),\n",
       " ('Oklahoma', 'Tulsa', 6.0),\n",
       " ('Oregon', 'Multnomah', 24.0),\n",
       " ('Oregon', 'Multnomah', 15.0),\n",
       " ('Pennsylvania', 'Allegheny', 5.0),\n",
       " ('Pennsylvania', 'Bucks', 9.0),\n",
       " ('Pennsylvania', 'Philadelphia', 8.0),\n",
       " ('Texas', 'Bexar', 8.0),\n",
       " ('Texas', 'El Paso', 1.0),\n",
       " ('Texas', 'El Paso', 7.0),\n",
       " ('Texas', 'El Paso', 2.0),\n",
       " ('Texas', 'El Paso', 8.0),\n",
       " ('Texas', 'Harris', 3.0),\n",
       " ('Texas', 'Harris', 3.0),\n",
       " ('Texas', 'Webb', 6.0),\n",
       " ('Utah', 'Salt Lake', 15.0),\n",
       " ('Utah', 'Utah', 14.0),\n",
       " ('Utah', 'Utah', 36.0),\n",
       " ('Virginia', 'Hampton City', 11.0),\n",
       " ('Virginia', 'Richmond City', 7.0),\n",
       " ('Virginia', 'Richmond City', 11.0),\n",
       " ('Washington', 'King', 15.0),\n",
       " ('Washington', 'King', 24.0),\n",
       " ('Washington', 'King', 26.0),\n",
       " ('Washington', 'Pierce', 14.0),\n",
       " ('Washington', 'Spokane', 16.0),\n",
       " ('Washington', 'Thurston', 18.0),\n",
       " ('West Virginia', 'Brooke', 7.0),\n",
       " ('West Virginia', 'Brooke', 3.0),\n",
       " ('West Virginia', 'Ohio', 7.0),\n",
       " ('Wisconsin', 'Racine', 7.0),\n",
       " ('Wisconsin', 'Waukesha', 3.0),\n",
       " ('Country Of Mexico', 'BAJA CALIFORNIA NORTE', 10.0),\n",
       " ('Country Of Mexico', 'BAJA CALIFORNIA NORTE', 33.0),\n",
       " ('Country Of Mexico', 'CHIHUAHUA STATE', 6.0),\n",
       " ('Arizona', 'Maricopa', 45.0),\n",
       " ('California', 'Fresno', 9.0),\n",
       " ('California', 'Los Angeles', 14.0),\n",
       " ('California', 'Mendocino', 17.0),\n",
       " ('California', 'Sacramento', 5.0),\n",
       " ('California', 'Sacramento', 5.0),\n",
       " ('California', 'San Bernardino', 3.0),\n",
       " ('California', 'Ventura', 5.0),\n",
       " ('Colorado', 'Denver', 19.0),\n",
       " ('Colorado', 'Jefferson', 8.0),\n",
       " ('Colorado', 'Mesa', 28.0),\n",
       " ('Connecticut', 'Fairfield', 8.0),\n",
       " ('Connecticut', 'Fairfield', 13.0),\n",
       " ('Connecticut', 'Hartford', 61.0),\n",
       " ('Connecticut', 'New Haven', 9.0),\n",
       " ('District Of Columbia', 'District of Columbia', 16.0),\n",
       " ('District Of Columbia', 'District of Columbia', 14.0),\n",
       " ('Florida', 'Broward', 8.0),\n",
       " ('Florida', 'Hillsborough', 7.0),\n",
       " ('Florida', 'Miami-Dade', 16.0),\n",
       " ('Florida', 'Palm Beach', 3.0),\n",
       " ('Hawaii', 'Honolulu', 3.0),\n",
       " ('Illinois', 'Cook', 32.0),\n",
       " ('Illinois', 'Sangamon', 10.0),\n",
       " ('Illinois', 'Winnebago', 17.0),\n",
       " ('Indiana', 'Marion', 16.0),\n",
       " ('Kansas', 'Linn', 10.0),\n",
       " ('Kentucky', 'Fayette', 3.0),\n",
       " ('Kentucky', 'Fayette', 1.0),\n",
       " ('Kentucky', 'Jefferson', 23.0),\n",
       " ('Kentucky', 'Jefferson', 20.0),\n",
       " ('Louisiana', 'East Baton Rouge', 50.0),\n",
       " ('Massachusetts', 'Hampden', 34.0),\n",
       " ('Massachusetts', 'Suffolk', 7.0),\n",
       " ('Michigan', 'Wayne', 9.0),\n",
       " ('Minnesota', 'Ramsey', 14.0),\n",
       " ('Minnesota', 'Saint Louis', 17.0),\n",
       " ('Minnesota', 'Stearns', 13.0),\n",
       " ('Missouri', 'Saint Louis', 3.0),\n",
       " ('Nebraska', 'Lancaster', 18.0),\n",
       " ('Nevada', 'Clark', 1.0),\n",
       " ('Nevada', 'Clark', 7.0),\n",
       " ('Nevada', 'Washoe', 10.0),\n",
       " ('Nevada', 'Washoe', 17.0),\n",
       " ('Nevada', 'Carson City', 11.0),\n",
       " ('New Jersey', 'Burlington', 8.0),\n",
       " ('New Mexico', 'Dona Ana', 3.0),\n",
       " ('New Mexico', 'Santa Fe', 10.0),\n",
       " ('New York', 'Kings', 7.0),\n",
       " ('New York', 'Nassau', 6.0),\n",
       " ('New York', 'Nassau', 7.0),\n",
       " ('New York', 'Onondaga', 16.0),\n",
       " ('North Carolina', 'Durham', 5.0),\n",
       " ('North Carolina', 'Forsyth', 18.0),\n",
       " ('North Carolina', 'Mecklenburg', 16.0),\n",
       " ('North Carolina', 'Wake', 8.0),\n",
       " ('Ohio', 'Cuyahoga', 13.0),\n",
       " ('Ohio', 'Montgomery', 6.0),\n",
       " ('Oklahoma', 'Tulsa', 9.0),\n",
       " ('Oregon', 'Jackson', 38.0),\n",
       " ('Oregon', 'Lane', 25.0),\n",
       " ('Oregon', 'Multnomah', 7.0),\n",
       " ('Pennsylvania', 'Allegheny', 10.0),\n",
       " ('Pennsylvania', 'Allegheny', 15.0),\n",
       " ('Pennsylvania', 'Beaver', 6.0),\n",
       " ('Pennsylvania', 'Erie', 7.0),\n",
       " ('Pennsylvania', 'Lackawanna', 5.0),\n",
       " ('Pennsylvania', 'Montgomery', 3.0),\n",
       " ('Tennessee', 'Shelby', 11.0),\n",
       " ('Tennessee', 'Shelby', 10.0),\n",
       " ('Texas', 'El Paso', 5.0),\n",
       " ('Virginia', 'Norfolk City', 14.0),\n",
       " ('Washington', 'King', 8.0),\n",
       " ('Washington', 'Spokane', 32.0),\n",
       " ('Wisconsin', 'Milwaukee', 7.0),\n",
       " ('Alabama', 'Jefferson', 17.0),\n",
       " ('Alaska', 'Fairbanks North Star ', 24.0),\n",
       " ('Alaska', 'Fairbanks North Star ', 19.0),\n",
       " ('Arizona', 'Pima', 7.0),\n",
       " ('California', 'Alameda', 20.0),\n",
       " ('California', 'Contra Costa', 8.0),\n",
       " ('California', 'Imperial', 3.0),\n",
       " ('California', 'Kern', 2.0),\n",
       " ('California', 'Los Angeles', 2.0),\n",
       " ('California', 'Los Angeles', 24.0),\n",
       " ('California', 'Los Angeles', 14.0),\n",
       " ('California', 'Marin', 16.0),\n",
       " ('California', 'Placer', 6.0),\n",
       " ('California', 'Riverside', 11.0),\n",
       " ('California', 'San Diego', 10.0),\n",
       " ('California', 'San Diego', 32.0),\n",
       " ('California', 'San Joaquin', 6.0),\n",
       " ('California', 'Santa Barbara', 5.0),\n",
       " ('California', 'Santa Barbara', 3.0),\n",
       " ('California', 'Sutter', 5.0),\n",
       " ('Colorado', 'Denver', 9.0),\n",
       " ('Colorado', 'Jefferson', 3.0),\n",
       " ('Connecticut', 'Hartford', 18.0),\n",
       " ('Florida', 'Broward', 11.0),\n",
       " ('Florida', 'Broward', 8.0),\n",
       " ('Florida', 'Duval', 8.0),\n",
       " ('Florida', 'Duval', 6.0),\n",
       " ('Illinois', 'Saint Clair', 14.0),\n",
       " ('Kentucky', 'Boyd', 9.0),\n",
       " ('Maryland', 'Baltimore', 5.0),\n",
       " ('Massachusetts', 'Middlesex', 10.0),\n",
       " ('Massachusetts', 'Suffolk', 10.0),\n",
       " ('Michigan', 'Kent', 5.0),\n",
       " ('Minnesota', 'Dakota', 6.0),\n",
       " ('Minnesota', 'Ramsey', 3.0),\n",
       " ('Minnesota', 'Saint Louis', 8.0),\n",
       " ('Nevada', 'Clark', 7.0),\n",
       " ('Nevada', 'Clark', 0.0),\n",
       " ('Nevada', 'Washoe', 22.0),\n",
       " ('New Jersey', 'Hudson', 19.0),\n",
       " ('New Mexico', 'Bernalillo', 33.0),\n",
       " ('New Mexico', 'Bernalillo', 22.0),\n",
       " ('New Mexico', 'Bernalillo', 1.0),\n",
       " ('New York', 'Monroe', 15.0),\n",
       " ('New York', 'Onondaga', 8.0),\n",
       " ('New York', 'Queens', 9.0),\n",
       " ('North Carolina', 'Forsyth', 10.0),\n",
       " ('North Carolina', 'Forsyth', 13.0),\n",
       " ('North Carolina', 'Mecklenburg', 10.0),\n",
       " ('Ohio', 'Cuyahoga', 1.0),\n",
       " ('Ohio', 'Hamilton', 2.0),\n",
       " ('Ohio', 'Jefferson', 24.0),\n",
       " ('Ohio', 'Summit', 6.0),\n",
       " ('Ohio', 'Summit', 8.0),\n",
       " ('Oregon', 'Jackson', 24.0),\n",
       " ('Pennsylvania', 'Bucks', 1.0),\n",
       " ('Pennsylvania', 'Cambria', 11.0),\n",
       " ('Pennsylvania', 'Cambria', 7.0),\n",
       " ('Pennsylvania', 'Philadelphia', 7.0),\n",
       " ('Pennsylvania', 'Washington', 1.0),\n",
       " ('Texas', 'Tarrant', 6.0),\n",
       " ('Texas', 'Webb', 6.0),\n",
       " ('Utah', 'Salt Lake', 8.0),\n",
       " ('Virginia', 'Fairfax', 6.0),\n",
       " ('Virginia', 'Alexandria City', 10.0),\n",
       " ('Virginia', 'Richmond City', 5.0),\n",
       " ('Virginia', 'Roanoke City', 10.0),\n",
       " ('Washington', 'King', 9.0),\n",
       " ('West Virginia', 'Hancock', 17.0),\n",
       " ('Puerto Rico', 'San Juan', 34.0),\n",
       " ('Puerto Rico', 'San Juan', 16.0),\n",
       " ('Puerto Rico', 'San Juan', 7.0),\n",
       " ('Country Of Mexico', 'BAJA CALIFORNIA NORTE', 5.0),\n",
       " ('Alaska', 'Anchorage ', 15.0),\n",
       " ('Alaska', 'Fairbanks North Star ', 5.0),\n",
       " ('Arizona', 'Maricopa', 17.0),\n",
       " ('Arizona', 'Maricopa', 5.0),\n",
       " ('Arizona', 'Pima', 5.0),\n",
       " ('California', 'Alameda', 5.0),\n",
       " ('California', 'Butte', 11.0),\n",
       " ('California', 'Contra Costa', 6.0),\n",
       " ('California', 'Fresno', 10.0),\n",
       " ('California', 'Fresno', 3.0),\n",
       " ('California', 'Orange', 6.0),\n",
       " ('California', 'Sacramento', 9.0),\n",
       " ('California', 'San Bernardino', 6.0),\n",
       " ('California', 'San Bernardino', 17.0),\n",
       " ('California', 'San Mateo', 9.0),\n",
       " ('California', 'Santa Barbara', 3.0),\n",
       " ('California', 'Solano', 5.0),\n",
       " ('California', 'Stanislaus', 6.0),\n",
       " ('Colorado', 'Jefferson', 5.0),\n",
       " ('Colorado', 'La Plata', 5.0),\n",
       " ('District Of Columbia', 'District of Columbia', 31.0),\n",
       " ('Florida', 'Orange', 2.0),\n",
       " ('Florida', 'Sarasota', 20.0),\n",
       " ('Illinois', 'Peoria', 9.0),\n",
       " ('Illinois', 'Saint Clair', 9.0),\n",
       " ('Illinois', 'Winnebago', 8.0),\n",
       " ('Indiana', 'Hendricks', 10.0),\n",
       " ('Indiana', 'Marion', 9.0),\n",
       " ('Kansas', 'Sedgwick', 18.0),\n",
       " ('Massachusetts', 'Worcester', 9.0),\n",
       " ('Michigan', 'Oakland', 7.0),\n",
       " ('Minnesota', 'Anoka', 2.0),\n",
       " ('Minnesota', 'Stearns', 8.0),\n",
       " ('Missouri', 'Greene', 24.0),\n",
       " ('Montana', 'Cascade', 7.0),\n",
       " ('Montana', 'Flathead', 13.0),\n",
       " ('Nevada', 'Clark', 16.0),\n",
       " ('Nevada', 'Clark', 26.0),\n",
       " ('Nevada', 'Washoe', 25.0),\n",
       " ('New Jersey', 'Camden', 3.0),\n",
       " ('New Jersey', 'Camden', 3.0),\n",
       " ('New Jersey', 'Monmouth', 8.0),\n",
       " ('New Mexico', 'Bernalillo', 2.0),\n",
       " ('Ohio', 'Cuyahoga', 9.0),\n",
       " ('Oklahoma', 'Oklahoma', 7.0),\n",
       " ('Pennsylvania', 'Allegheny', 7.0),\n",
       " ('Pennsylvania', 'Allegheny', 2.0),\n",
       " ('Pennsylvania', 'Bucks', 17.0),\n",
       " ('Pennsylvania', 'Philadelphia', 2.0),\n",
       " ('Pennsylvania', 'Washington', 3.0),\n",
       " ('Texas', 'El Paso', 5.0),\n",
       " ('Texas', 'El Paso', 6.0),\n",
       " ('Virginia', 'Roanoke City', 13.0),\n",
       " ('Washington', 'King', 11.0),\n",
       " ('Washington', 'Spokane', 16.0),\n",
       " ('West Virginia', 'Hancock', 3.0),\n",
       " ('Puerto Rico', 'San Juan', 17.0),\n",
       " ('Puerto Rico', 'San Juan', 19.0),\n",
       " ('Country Of Mexico', 'BAJA CALIFORNIA NORTE', 60.0),\n",
       " ('Country Of Mexico', 'BAJA CALIFORNIA NORTE', 28.0),\n",
       " ('Country Of Mexico', 'BAJA CALIFORNIA NORTE', 0.0),\n",
       " ('Alabama', 'Jefferson', 0.0),\n",
       " ('Arizona', 'Maricopa', 25.0),\n",
       " ('Arizona', 'Maricopa', 8.0),\n",
       " ('Arizona', 'Maricopa', 8.0),\n",
       " ('Arizona', 'Pima', 11.0),\n",
       " ('Arizona', 'Pima', 22.0),\n",
       " ('California', 'Contra Costa', 3.0),\n",
       " ('California', 'Imperial', 26.0),\n",
       " ('California', 'Imperial', 0.0),\n",
       " ('California', 'Los Angeles', 5.0),\n",
       " ('California', 'Los Angeles', 3.0),\n",
       " ('California', 'Los Angeles', 3.0),\n",
       " ('California', 'Los Angeles', 7.0),\n",
       " ('California', 'Riverside', 7.0),\n",
       " ('California', 'San Diego', 9.0),\n",
       " ('California', 'San Francisco', 10.0),\n",
       " ('California', 'Santa Cruz', 3.0),\n",
       " ...]"
      ]
     },
     "execution_count": 2,
     "metadata": {},
     "output_type": "execute_result"
    }
   ],
   "source": [
    "### YOUR CODE HERE ###\n",
    "epa_tuples = [(state_list[i],county_list[i],aqi_list[i]) for i in range(len(state_list))]\n",
    "epa_tuples"
   ]
  },
  {
   "cell_type": "markdown",
   "metadata": {
    "id": "Jj_vkIbrfOFN"
   },
   "source": [
    "<details><summary><h4>Hint 1</h4></summary>\n",
    "\n",
    "Refer to what you learned about element-wise combination of iterable objects.\n",
    "\n",
    "</details>"
   ]
  },
  {
   "cell_type": "markdown",
   "metadata": {
    "id": "NxWv7DjUffHi"
   },
   "source": [
    "<details><summary><h4>Hint 2</h4></summary>\n",
    "\n",
    "It's possible to create a list of tuples using a loop, but there's a much simpler way of accomplishing the task using a built-in Python function.\n",
    "\n",
    "</details>"
   ]
  },
  {
   "cell_type": "markdown",
   "metadata": {
    "id": "-QK1uv6Gf998"
   },
   "source": [
    "<details><summary><h4>Hint 3</h4></summary>\n",
    "\n",
    "The `zip()` function accepts any number of iterable objects as arguments. If the arguments are all of equal length, the function returns an iterator object of tuples, where each tuple contains `element[i]` of each argument.\n",
    "\n",
    "You can then either loop over the iterator object or pass it to the `list()` function to unpack its values.\n",
    "\n",
    "Refer to the [zip() Python documentation](https://docs.python.org/3/library/functions.html#zip) for more information.\n",
    "\n",
    "</details>"
   ]
  },
  {
   "cell_type": "markdown",
   "metadata": {
    "id": "tKtXEIRrgiY0"
   },
   "source": [
    "## 1b: Create a dictionary\n",
    "\n",
    "Now that you have a list of tuples containing AQI records, use it to create a dictionary that allows you to look up a state and get all the county-AQI pairs associated with that state.\n",
    "\n",
    "* Create a dictionary called `aqi_dict`:\n",
    "    * Use a loop to unpack information from each tuple in `epa_tuples`.\n",
    "    * Your dictionary's keys should be states.\n",
    "    * The value at each key should be a list of tuples, where each tuple is a county-AQI pair of a record from a given state.\n",
    "\n",
    "*Example:*\n",
    "```\n",
    "[IN]  aqi_dict['Vermont']\n",
    "[OUT] [('Chittenden', 18.0),\n",
    "       ('Chittenden', 20.0),\n",
    "       ('Chittenden', 3.0),\n",
    "       ('Chittenden', 49.0),\n",
    "       ('Rutland', 15.0),\n",
    "       ('Chittenden', 3.0),\n",
    "       ('Chittenden', 6.0),\n",
    "       ('Rutland', 3.0),\n",
    "       ('Rutland', 6.0),\n",
    "       ('Chittenden', 5.0),\n",
    "       ('Chittenden', 2.0)]\n",
    "```"
   ]
  },
  {
   "cell_type": "code",
   "execution_count": 3,
   "metadata": {
    "id": "5wf42bG-d6wC"
   },
   "outputs": [
    {
     "data": {
      "text/plain": [
       "[('Chittenden', 18.0),\n",
       " ('Chittenden', 20.0),\n",
       " ('Chittenden', 3.0),\n",
       " ('Chittenden', 49.0),\n",
       " ('Rutland', 15.0),\n",
       " ('Chittenden', 3.0),\n",
       " ('Chittenden', 6.0),\n",
       " ('Rutland', 3.0),\n",
       " ('Rutland', 6.0),\n",
       " ('Chittenden', 5.0),\n",
       " ('Chittenden', 2.0)]"
      ]
     },
     "execution_count": 3,
     "metadata": {},
     "output_type": "execute_result"
    }
   ],
   "source": [
    "### YOUR CODE HERE ###\n",
    "aqi_dict = {}\n",
    "for state,county,aqi in epa_tuples:\n",
    "    # Check if state already is in dictionary\n",
    "    if state not in aqi_dict:\n",
    "        # Add state to dictionary as well as county and aqi\n",
    "        aqi_dict[state] = [(county,aqi)]\n",
    "    else:\n",
    "        # Add county and aqi to existing state\n",
    "        aqi_dict[state].append((county,aqi))\n",
    "        \n",
    "aqi_dict[\"Vermont\"]\n",
    "        "
   ]
  },
  {
   "cell_type": "markdown",
   "metadata": {
    "id": "Tndsby6dn4c4"
   },
   "source": [
    "<details><summary><h4>Hint 1</h4></summary>\n",
    "\n",
    "Refer to what you learned about unpacking tuples in loops and creating dictionaries.\n",
    "\n",
    "</details>"
   ]
  },
  {
   "cell_type": "markdown",
   "metadata": {
    "id": "zJ45IKZ0oA4Z"
   },
   "source": [
    "<details><summary><h4>Hint 2</h4></summary>\n",
    "\n",
    "There are 3 elements in each tuple in `epa_tuples`. Therefore, for each iteration of your loop, you'll need to unpack these 3 elements into their own variables.\n",
    "\n",
    "</details>"
   ]
  },
  {
   "cell_type": "markdown",
   "metadata": {
    "id": "6IzSWU-sodMQ"
   },
   "source": [
    "<details><summary><h4>Hint 3</h4></summary>\n",
    "\n",
    "With each loop iteration, check whether the state is already a key in `aqi_dict`. Then, use conditional logic:\n",
    "* If it is, append the county and AQI as a tuple to the list at that state's value.\n",
    "* If it's not, assign the state as a new key in `aqi_dict`, with a value that is a list containing the county-AQI tuple.\n",
    "\n",
    "</details>"
   ]
  },
  {
   "cell_type": "markdown",
   "metadata": {
    "id": "igHmjfKI0eHK"
   },
   "source": [
    "# Task 2: Use the dictionary to retrieve information\n",
    "\n",
    "Now that you have a dictionary of county-AQI readings by state, you can use it to retrieve information and draw further insight from your data."
   ]
  },
  {
   "cell_type": "markdown",
   "metadata": {
    "id": "cGZhPv6g06W4"
   },
   "source": [
    "## 2a: Calculate how many readings were recorded in the state of Arizona\n",
    "\n",
    "Use your Python skills to calculate the number of readings that were recorded in the state of Arizona.\n",
    "\n",
    "*Expected output:*\n",
    "```\n",
    "[OUT] 72\n",
    "```"
   ]
  },
  {
   "cell_type": "code",
   "execution_count": 5,
   "metadata": {
    "id": "E14DYfPFzk5K"
   },
   "outputs": [
    {
     "data": {
      "text/plain": [
       "72"
      ]
     },
     "execution_count": 5,
     "metadata": {},
     "output_type": "execute_result"
    }
   ],
   "source": [
    "### YOUR CODE HERE ###\n",
    "len(aqi_dict[\"Arizona\"])"
   ]
  },
  {
   "cell_type": "markdown",
   "metadata": {
    "id": "JQacJGL09nn2"
   },
   "source": [
    "<details><summary><h4>Hint</h4></summary>\n",
    "\n",
    "Because you only need a count of records, try using the `len()` function to check how many records are in the list that represents the value associated with the `'Arizona'` key.\n",
    "\n",
    "</details>"
   ]
  },
  {
   "cell_type": "markdown",
   "metadata": {
    "id": "vWGIlgb29Nzd"
   },
   "source": [
    "## 2b: Calculate the mean AQI from the state of California\n",
    "\n",
    "Use your Python skills to calculate the mean of the AQI readings that were recorded in the state of California. Note that there are many different approaches you can take. Be creative!\n",
    "\n",
    "*Expected output:*\n",
    "```\n",
    "[OUT] 9.412280701754385\n",
    "```"
   ]
  },
  {
   "cell_type": "code",
   "execution_count": 7,
   "metadata": {
    "id": "Rb9y0usK0Ebn"
   },
   "outputs": [
    {
     "data": {
      "text/plain": [
       "9.412280701754385"
      ]
     },
     "execution_count": 7,
     "metadata": {},
     "output_type": "execute_result"
    }
   ],
   "source": [
    "### YOUR CODE HERE ###\n",
    "import numpy as np\n",
    "# Use list comprehension\n",
    "np.mean([tup[1] for tup in aqi_dict[\"California\"]])"
   ]
  },
  {
   "cell_type": "markdown",
   "metadata": {
    "id": "M5wrWklg-caP"
   },
   "source": [
    "<details><summary><h4>Hint 1</h4></summary>\n",
    "\n",
    "When you look up a state as a key in `aqi_dict`, its corresponding value is a list of tuples. Consider using a list comprehension to unpack the data contained in each tuple so you can perform operations on it.\n",
    "\n",
    "</details>"
   ]
  },
  {
   "cell_type": "markdown",
   "metadata": {
    "id": "S2AJij6g_cy6"
   },
   "source": [
    "<details><summary><h4>Hint 2</h4></summary>\n",
    "\n",
    "If you can create a list of just the AQI values from each tuple in the values of the 'California' key, then you can calculate the mean of the list in the next step.\n",
    "\n",
    "</details>"
   ]
  },
  {
   "cell_type": "markdown",
   "metadata": {
    "id": "IA7ArHMU_5w4"
   },
   "source": [
    "<details><summary><h4>Hint 3</h4></summary>\n",
    "\n",
    "One way to construct your list is:\n",
    "```\n",
    "[aqi for county, aqi in aqi_dict['California']]\n",
    "```\n",
    "Then, you can sum all the elements in the list and divide by the length of the list to calculate the mean.\n",
    "\n",
    "</details>"
   ]
  },
  {
   "cell_type": "markdown",
   "metadata": {
    "id": "QK6P3Az0J_H9"
   },
   "source": [
    "# Task 3: Define a `county_counter()` function\n",
    "\n",
    "You want to be able to quickly look up how many times a county is represented in a given state's readings. Even though you already have a list containing just county names, it's not safe to rely on the counts from that list alone because some states might have counties with the same name. Therefore, you'll need to use the state-specific information in `aqi_dict` to calculate this information."
   ]
  },
  {
   "cell_type": "markdown",
   "metadata": {
    "id": "vqEANCSJOUU0"
   },
   "source": [
    "## 3a: Write the function\n",
    "\n",
    "* Define a function called `county_counter` that takes one argument:\n",
    "    * `state` - a string of the name of a U.S. state\n",
    "\n",
    "* Return `county_dict` - a `dictionary` object whose keys are counties of the `state` given in the function's argument. For each county key, the corresponding value should be the count of the number of times that county is represented in the AQI data for that state.\n",
    "\n",
    "*Example:*\n",
    "```\n",
    "[IN]  county_counter('Florida')\n",
    "[OUT] {'Duval': 13,\n",
    "       'Hillsborough': 9,\n",
    "       'Broward': 18,\n",
    "       'Miami-Dade': 15,\n",
    "       'Orange': 6,\n",
    "       'Palm Beach': 5,\n",
    "       'Pinellas': 6,\n",
    "       'Sarasota': 9}\n",
    "```\n",
    "\n",
    "**NOTE:** Depending on the version of Python you're using, the order of the items returned by a dictionary can vary, so it's possible that your keys might not print in the same order as listed above. However, the key-value pairs themselves will be the same if you do the exercise successfully."
   ]
  },
  {
   "cell_type": "code",
   "execution_count": 33,
   "metadata": {
    "id": "VoYZhy8PLMvN"
   },
   "outputs": [
    {
     "data": {
      "text/plain": [
       "{'Palm Beach': 5,\n",
       " 'Sarasota': 9,\n",
       " 'Miami-Dade': 15,\n",
       " 'Orange': 6,\n",
       " 'Broward': 18,\n",
       " 'Duval': 13,\n",
       " 'Hillsborough': 9,\n",
       " 'Pinellas': 6}"
      ]
     },
     "execution_count": 33,
     "metadata": {},
     "output_type": "execute_result"
    }
   ],
   "source": [
    "### YOUR CODE HERE ###\n",
    "def county_counter(state):\n",
    "    # Collect list of counties for given state\n",
    "    counties = [tup[0] for tup in aqi_dict[state]]\n",
    "    # Turn counties into a set for keys\n",
    "    counties_set = set(counties)\n",
    "    # Create empty dictionary\n",
    "    county_dict = {}\n",
    "    for key_county in counties_set:\n",
    "        county_count = 0\n",
    "        for sample_county in counties:\n",
    "            if sample_county == key_county:\n",
    "                # Add one to counter when match is found\n",
    "                county_count += 1\n",
    "        county_dict[key_county] = county_count\n",
    "    return county_dict\n",
    "\n",
    "test = county_counter('Florida')   \n",
    "test"
   ]
  },
  {
   "cell_type": "markdown",
   "metadata": {
    "id": "731imqkOOs3w"
   },
   "source": [
    "<details><summary><h4>Hint 1</h4></summary>\n",
    "\n",
    "Refer to what you learned about function syntax, how dictionaries behave with iteration techniques, and how to unpack tuples.\n",
    "\n",
    "</details>"
   ]
  },
  {
   "cell_type": "markdown",
   "metadata": {
    "id": "5IiueHVyPN6i"
   },
   "source": [
    "<details><summary><h4>Hint 2</h4></summary>\n",
    "\n",
    "* Use `aqi_dict` in the body of the function.\n",
    "\n",
    "* When you look up a state as a key in `aqi_dict`, its corresponding value is a list of tuples. Unpack the tuples to extract the county, which you can then use to build `county_dict`.\n",
    "\n",
    "</details>"
   ]
  },
  {
   "cell_type": "markdown",
   "metadata": {
    "id": "c-IjDlffPyST"
   },
   "source": [
    "<details><summary><h4>Hint 3</h4></summary>\n",
    "\n",
    "* Begin by instantiating `county_dict` as an empty dictionary.\n",
    "* Then, in a `for` loop, unpack `county, aqi` from each tuple in `aqi_dict[state]`.\n",
    "* Next, use conditional logic to assemble `county_dict`:\n",
    "    * If `county` is already a key in `county_dict`, increment the value at that key by 1.\n",
    "    * If `county` is not a key in `county_dict`, then assign it as a new key whose value is 1.\n",
    "* Return `county_dict`.\n",
    "\n",
    "</details>"
   ]
  },
  {
   "cell_type": "markdown",
   "metadata": {
    "id": "3lt2nty2QzHM"
   },
   "source": [
    "## 3b: Use the function to check Washington County, PA.\n",
    "\n",
    "Use the `county_counter()` function to calculate how many AQI readings were from `Washington` County, `Pennsylvania`.\n",
    "\n",
    "*Expected result:*\n",
    "```\n",
    "[OUT] 7\n",
    "```"
   ]
  },
  {
   "cell_type": "code",
   "execution_count": 25,
   "metadata": {
    "colab": {
     "base_uri": "https://localhost:8080/"
    },
    "executionInfo": {
     "elapsed": 7,
     "status": "ok",
     "timestamp": 1680293128736,
     "user": {
      "displayName": "Matteo Riotto",
      "userId": "15211004813978485634"
     },
     "user_tz": 420
    },
    "id": "hLdLi46fM0wy",
    "outputId": "36830c47-ce36-4a76-da10-db6ee54d6a71"
   },
   "outputs": [
    {
     "data": {
      "text/plain": [
       "7"
      ]
     },
     "execution_count": 25,
     "metadata": {},
     "output_type": "execute_result"
    }
   ],
   "source": [
    "### YOUR CODE HERE ###\n",
    "test_dict = county_counter(\"Pennsylvania\")\n",
    "test_dict[\"Washington\"]"
   ]
  },
  {
   "cell_type": "markdown",
   "metadata": {
    "id": "N68ywkC5R5x1"
   },
   "source": [
    "<details><summary><h4>Hint</h4></summary>\n",
    "\n",
    "Use the `county_counter()` function to generate a dictionary of county counts for the state of Pennsylvania. Then, use the resulting dictionary to look up the count for Washington county.\n",
    "\n",
    "</details>\n"
   ]
  },
  {
   "cell_type": "markdown",
   "metadata": {
    "id": "R5KpMuUtVk66"
   },
   "source": [
    "## 3c: Use the function to check the different counties in Indiana\n",
    "\n",
    "Use the `county_counter` function to obtain a list of all the different counties in the state of Indiana.\n",
    "\n",
    "*Expected result:*\n",
    "```\n",
    "[OUT] dict_keys(['Marion', 'St. Joseph', 'Vanderburgh', 'Allen', 'Vigo'\n",
    "      'Hendricks', 'Lake'])\n",
    "```\n",
    "\n",
    "**NOTE:** Depending on the version of Python you're using, the order of the items returned by a dictionary can vary, so it's possible that your keys might not print in this same order as listed above. However, the key-value pairs themselves will be the same if you do the exercise successfully."
   ]
  },
  {
   "cell_type": "code",
   "execution_count": 26,
   "metadata": {
    "colab": {
     "base_uri": "https://localhost:8080/"
    },
    "executionInfo": {
     "elapsed": 216,
     "status": "ok",
     "timestamp": 1680295256697,
     "user": {
      "displayName": "Matteo Riotto",
      "userId": "15211004813978485634"
     },
     "user_tz": 420
    },
    "id": "liiiVWXgV4_8",
    "outputId": "c73b05a3-7585-49e3-f55e-59c1b0ab6b61"
   },
   "outputs": [
    {
     "name": "stdout",
     "output_type": "stream",
     "text": [
      "dict_keys(['Lake', 'Hendricks', 'Marion', 'Allen', 'Vanderburgh', 'St. Joseph', 'Vigo'])\n"
     ]
    }
   ],
   "source": [
    "### YOUR CODE HERE ###\n",
    "test_dict = county_counter(\"Indiana\")\n",
    "print(test_dict.keys())"
   ]
  },
  {
   "cell_type": "markdown",
   "metadata": {
    "id": "7nLYmg5ZWnDz"
   },
   "source": [
    "<details><summary><h4>Hint 1</h4></summary>\n",
    "\n",
    "Refer to what you learned about dictionary methods.\n",
    "\n",
    "</details>"
   ]
  },
  {
   "cell_type": "markdown",
   "metadata": {
    "id": "EOLQUj4ZWvgz"
   },
   "source": [
    "<details><summary><h4>Hint 2</h4></summary>\n",
    "\n",
    "Enter `'Indiana'` as an argument to your `county_counter()` function to get a dictionary of county counts in the state of Indiana. Then, use a dictionary method on the resulting dictionary.\n",
    "\n",
    "</details>"
   ]
  },
  {
   "cell_type": "markdown",
   "metadata": {
    "id": "2B-xdyiCXNdm"
   },
   "source": [
    "<details><summary><h4>Hint 3</h4></summary>\n",
    "\n",
    "Use the `keys()` dictionary method to return a list of the dictionary's keys, which represents the different counties in the state of Indiana.\n",
    "\n",
    "</details>"
   ]
  },
  {
   "cell_type": "markdown",
   "metadata": {
    "id": "gqDduvi4Xe1U"
   },
   "source": [
    "# Task 4: Use sets to determine how many counties share a name\n",
    "\n",
    "In this task, you'll create a list of every county from every state, then use it to determine how many counties have the same name."
   ]
  },
  {
   "cell_type": "markdown",
   "metadata": {
    "id": "PY-64mhWeJiZ"
   },
   "source": [
    "## 4a: Construct a list of every county from every state\n",
    "\n",
    "1.  * Use `aqi_dict` and `county_counter()` to construct a list of every county from every state.\n",
    "    * Assign the result to a variable called `all_counties`.\n",
    "\n",
    "2. Find the length of `all_counties`.\n",
    "\n",
    "*Expected result:*\n",
    "```\n",
    "[OUT] 277\n",
    "```"
   ]
  },
  {
   "cell_type": "markdown",
   "metadata": {
    "id": "S4CXm4CrfFyh"
   },
   "source": [
    "<details><summary><h4>Hint 1</h4></summary>\n",
    "\n",
    "Refer to what you learned about looping over dictionaries. Also, review previous tasks you completed in this notebook.\n",
    "\n",
    "</details>"
   ]
  },
  {
   "cell_type": "markdown",
   "metadata": {
    "id": "LdobBRhXfM-f"
   },
   "source": [
    "<details><summary><h4>Hint 2</h4></summary>\n",
    "\n",
    "* Note that when you call the `keys()` method on a dictionary, the returned object is similar to a list, but it's not of type `list`. It's a dictionary view object, but you can convert it to a list using the `list()` function.\n",
    "\n",
    "* Be mindful of the following:\n",
    "    * `list_a.append(list_b)` increases the length of `list_a`  by 1 no matter how long `list_b` is, because `append()` creates a list of lists.\n",
    "    * `list_a + list_b` increases the length of `list_a` by `len(list_b)`, because adding (`+`) lists combines them.\n",
    "\n",
    "</details>"
   ]
  },
  {
   "cell_type": "markdown",
   "metadata": {
    "id": "kaFWKV3OhXrb"
   },
   "source": [
    "<details><summary><h4>Hint 3</h4></summary>\n",
    "\n",
    "1. Instantiate an empty list called `all_counties`.\n",
    "2. Loop over each state in `aqi_dict.keys()`. For each iteration:\n",
    "    * Extract a list of that state's counties using `list(county_counter(state).keys())`.\n",
    "    * Add the list of counties to `all_counties`.\n",
    "3. Print `len(all_counties)`\n",
    "\n",
    "</details>"
   ]
  },
  {
   "cell_type": "code",
   "execution_count": 47,
   "metadata": {
    "colab": {
     "base_uri": "https://localhost:8080/"
    },
    "executionInfo": {
     "elapsed": 361,
     "status": "ok",
     "timestamp": 1680295739343,
     "user": {
      "displayName": "Matteo Riotto",
      "userId": "15211004813978485634"
     },
     "user_tz": 420
    },
    "id": "2z7AZm6KaEj0",
    "outputId": "33104782-9476-4ce7-a18b-8765e387c673"
   },
   "outputs": [
    {
     "name": "stdout",
     "output_type": "stream",
     "text": [
      "277\n"
     ]
    }
   ],
   "source": [
    "### YOUR CODE HERE ###\n",
    "# Create master list for all counties\n",
    "all_counties = []\n",
    "for state in aqi_dict:\n",
    "    counter = county_counter(state)\n",
    "    for county in counter.keys():\n",
    "        all_counties.append(county)\n",
    "        \n",
    "print(len(all_counties))"
   ]
  },
  {
   "cell_type": "markdown",
   "metadata": {
    "id": "gDepYdewiSIV"
   },
   "source": [
    "## 4b: Calculate how many counties share names\n",
    "\n",
    "Use `all_counties` and your knowledge of sets to determine how many counties share names.\n",
    "\n",
    "*Expected result:*\n",
    "```\n",
    "[OUT] 23\n",
    "```"
   ]
  },
  {
   "cell_type": "code",
   "execution_count": 50,
   "metadata": {
    "colab": {
     "base_uri": "https://localhost:8080/"
    },
    "executionInfo": {
     "elapsed": 9,
     "status": "ok",
     "timestamp": 1680297704209,
     "user": {
      "displayName": "Matteo Riotto",
      "userId": "15211004813978485634"
     },
     "user_tz": 420
    },
    "id": "ai7AFt_9irLm",
    "outputId": "78834ce6-acd3-4ded-f80f-d4fa4fc9ac6e"
   },
   "outputs": [
    {
     "data": {
      "text/plain": [
       "23"
      ]
     },
     "execution_count": 50,
     "metadata": {},
     "output_type": "execute_result"
    }
   ],
   "source": [
    "### YOUR CODE HERE ###\n",
    "test = set(all_counties)\n",
    "len(all_counties)-len(test)"
   ]
  },
  {
   "cell_type": "markdown",
   "metadata": {
    "id": "5_C1MQq85aHA"
   },
   "source": [
    "<details><summary><h4>Hint 1</h4></summary>\n",
    "\n",
    "Refer to what you've learned about sets.\n",
    "\n",
    "</details>"
   ]
  },
  {
   "cell_type": "markdown",
   "metadata": {
    "id": "FE7GBLPF5aBy"
   },
   "source": [
    "<details><summary><h4>Hint 2</h4></summary>\n",
    "\n",
    "A set cannot contain any duplicate elements. Each value is unique.\n",
    "\n",
    "</details>"
   ]
  },
  {
   "cell_type": "markdown",
   "metadata": {
    "id": "5_YEjQ2n5Z9I"
   },
   "source": [
    "<details><summary><h4>Hint 3</h4></summary>\n",
    "\n",
    "1. Use the `set()` function to get the set of all unique county names in `all_counties`.\n",
    "\n",
    "2. Calculate the length of `set(all_counties)`. This is the number of unique county names in the data.\n",
    "\n",
    "3. Subtract this number from `len(all_counties)` to get the number of times a county name was duplicated.\n",
    "\n",
    "</details>"
   ]
  },
  {
   "cell_type": "markdown",
   "metadata": {
    "id": "xhKq_IF9k2z5"
   },
   "source": [
    "Note that this doesn't tell you how many *different* county names were duplicated. It's possible that 24 states all had a county that shared the same one name. It's also possible that there were 23 different counties that each shared a name with a county in just one other state.\n",
    "\n",
    "Further analysis could uncover more details about this. Perhaps you can figure it out!"
   ]
  },
  {
   "cell_type": "markdown",
   "metadata": {
    "id": "K9nId3uu5Z47"
   },
   "source": [
    "## Conclusion\n",
    "\n",
    "**What are your key takeaways from this lab?**"
   ]
  },
  {
   "cell_type": "markdown",
   "metadata": {
    "id": "A2eoSHnIQG1I"
   },
   "source": [
    "Sets make life easy"
   ]
  }
 ],
 "metadata": {
  "colab": {
   "provenance": []
  },
  "kernelspec": {
   "display_name": "Python 3",
   "language": "python",
   "name": "python3"
  },
  "language_info": {
   "codemirror_mode": {
    "name": "ipython",
    "version": 3
   },
   "file_extension": ".py",
   "mimetype": "text/x-python",
   "name": "python",
   "nbconvert_exporter": "python",
   "pygments_lexer": "ipython3",
   "version": "3.7.6"
  }
 },
 "nbformat": 4,
 "nbformat_minor": 1
}
